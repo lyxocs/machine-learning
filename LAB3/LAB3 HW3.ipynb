{
 "metadata": {
  "language_info": {
   "codemirror_mode": {
    "name": "ipython",
    "version": 3
   },
   "file_extension": ".py",
   "mimetype": "text/x-python",
   "name": "python",
   "nbconvert_exporter": "python",
   "pygments_lexer": "ipython3",
   "version": "3.8.3-final"
  },
  "orig_nbformat": 2,
  "kernelspec": {
   "name": "Python 3.8.3 64-bit ('base': conda)",
   "display_name": "Python 3.8.3 64-bit ('base': conda)",
   "metadata": {
    "interpreter": {
     "hash": "a8f61be024eba58adef938c9aa1e29e02cb3dece83a5348b1a2dafd16a070453"
    }
   }
  }
 },
 "nbformat": 4,
 "nbformat_minor": 2,
 "cells": [
  {
   "cell_type": "code",
   "execution_count": 194,
   "metadata": {},
   "outputs": [],
   "source": [
    "import os\n",
    "import numpy as np\n",
    "import random\n",
    "import math\n",
    "from collections import Counter"
   ]
  },
  {
   "cell_type": "code",
   "execution_count": 195,
   "metadata": {},
   "outputs": [],
   "source": [
    "def make_Dictionary(train_dir):\n",
    "    emails = [os.path.join(train_dir,f) for f in os.listdir(train_dir)]\n",
    "    all_words = []\n",
    "    for mail in emails:\n",
    "        with open(mail) as m:\n",
    "            for i,line in enumerate(m):\n",
    "                if i == 2:  #Body of email is only 3rd line of text file\n",
    "                    words = line.split()\n",
    "                    all_words += words\n",
    "    dictionary = Counter(all_words)\n",
    "    dictionary_temp = Counter(all_words)\n",
    "\n",
    "    # Paste code for non-word removal here(code snippet is given below)\n",
    "    list_to_remove = dictionary_temp.keys()\n",
    "    for item in list_to_remove:\n",
    "        if item.isalpha() == False:    #Determine whether it is punctuation\n",
    "            del dictionary[item]\n",
    "        elif len(item) == 1:           #\n",
    "            del dictionary[item]\n",
    "    dictionary = dictionary.most_common(3000)\n",
    "    return dictionary"
   ]
  },
  {
   "cell_type": "code",
   "execution_count": 196,
   "metadata": {},
   "outputs": [],
   "source": [
    "def extract_features(root_dir,dictionary):\n",
    "    emails = [os.path.join(root_dir,f) for f in os.listdir(root_dir)]\n",
    "    all_words = []\n",
    "    features_matrix = np.zeros((len(emails),3000))\n",
    "    docID = 0\n",
    "    for mail in emails:\n",
    "        print(mail)\n",
    "        with open(mail) as m:\n",
    "            for i,line in enumerate(m):\n",
    "                if i == 2:\n",
    "                    words = line.split()\n",
    "                    for word in words:\n",
    "                        wordID = 0\n",
    "                        for i,d in enumerate(dictionary):\n",
    "                            if d[0] == word:\n",
    "                                wordID = i\n",
    "                                features_matrix[docID,wordID] = words.count(word)\n",
    "        docID = docID + 1\n",
    "    return features_matrix\n",
    "    "
   ]
  },
  {
   "cell_type": "code",
   "execution_count": 197,
   "metadata": {
    "tags": [
     "outputPrepend"
    ]
   },
   "outputs": [
    {
     "output_type": "stream",
     "name": "stdout",
     "text": "3msg1.txt\ntrain-mails\\6-31msg1.txt\ntrain-mails\\6-338msg1.txt\ntrain-mails\\6-33msg1.txt\ntrain-mails\\6-36msg1.txt\ntrain-mails\\6-380msg1.txt\ntrain-mails\\6-381msg1.txt\ntrain-mails\\6-381msg2.txt\ntrain-mails\\6-381msg3.txt\ntrain-mails\\6-381msg4.txt\ntrain-mails\\6-381msg5.txt\ntrain-mails\\6-382msg1.txt\ntrain-mails\\6-392msg1.txt\ntrain-mails\\6-41msg1.txt\ntrain-mails\\6-421msg1.txt\ntrain-mails\\6-425msg2.txt\ntrain-mails\\6-425msg3.txt\ntrain-mails\\6-42msg1.txt\ntrain-mails\\6-42msg2.txt\ntrain-mails\\6-42msg3.txt\ntrain-mails\\6-430msg1.txt\ntrain-mails\\6-430msg2.txt\ntrain-mails\\6-430msg3.txt\ntrain-mails\\6-430msg4.txt\ntrain-mails\\6-430msg5.txt\ntrain-mails\\6-453msg0.txt\ntrain-mails\\6-453msg1.txt\ntrain-mails\\6-453msg2.txt\ntrain-mails\\6-454msg1.txt\ntrain-mails\\6-455msg1.txt\ntrain-mails\\6-455msg2.txt\ntrain-mails\\6-45msg1.txt\ntrain-mails\\6-473msg1.txt\ntrain-mails\\6-474msg1.txt\ntrain-mails\\6-4msg1.txt\ntrain-mails\\6-4msg2.txt\ntrain-mails\\6-4msg3.txt\ntrain-mails\\6-50msg0.txt\ntrain-mails\\6-50msg1.txt\ntrain-mails\\6-50msg2.txt\ntrain-mails\\6-50msg3.txt\ntrain-mails\\6-51msg1.txt\ntrain-mails\\6-52msg1.txt\ntrain-mails\\6-53msg1.txt\ntrain-mails\\6-54msg1.txt\ntrain-mails\\6-55msg1.txt\ntrain-mails\\6-57msg1.txt\ntrain-mails\\6-60msg1.txt\ntrain-mails\\6-61msg1.txt\ntrain-mails\\6-64msg1.txt\ntrain-mails\\6-65msg1.txt\ntrain-mails\\6-68msg1.txt\ntrain-mails\\6-70msg1.txt\ntrain-mails\\6-72msg1.txt\ntrain-mails\\6-73msg1.txt\ntrain-mails\\6-74msg1.txt\ntrain-mails\\6-75msg1.txt\ntrain-mails\\6-76msg1.txt\ntrain-mails\\6-77msg1.txt\ntrain-mails\\6-798msg3.txt\ntrain-mails\\6-799msg1.txt\ntrain-mails\\6-7msg1.txt\ntrain-mails\\6-7msg2.txt\ntrain-mails\\6-7msg3.txt\ntrain-mails\\6-801msg1.txt\ntrain-mails\\6-801msg2.txt\ntrain-mails\\6-801msg3.txt\ntrain-mails\\6-802msg0.txt\ntrain-mails\\6-802msg1.txt\ntrain-mails\\6-802msg2.txt\ntrain-mails\\6-806msg1.txt\ntrain-mails\\6-806msg2.txt\ntrain-mails\\6-806msg3.txt\ntrain-mails\\6-809msg1.txt\ntrain-mails\\6-809msg2.txt\ntrain-mails\\6-809msg3.txt\ntrain-mails\\6-80msg1.txt\ntrain-mails\\6-80msg2.txt\ntrain-mails\\6-80msg3.txt\ntrain-mails\\6-80msg4.txt\ntrain-mails\\6-80msg5.txt\ntrain-mails\\6-813msg1.txt\ntrain-mails\\6-813msg2.txt\ntrain-mails\\6-813msg3.txt\ntrain-mails\\6-816msg1.txt\ntrain-mails\\6-818msg1.txt\ntrain-mails\\6-819msg1.txt\ntrain-mails\\6-81msg1.txt\ntrain-mails\\6-820msg1.txt\ntrain-mails\\6-823msg1.txt\ntrain-mails\\6-823msg2.txt\ntrain-mails\\6-825msg1.txt\ntrain-mails\\6-825msg2.txt\ntrain-mails\\6-825msg3.txt\ntrain-mails\\6-828msg1.txt\ntrain-mails\\6-828msg2.txt\ntrain-mails\\6-828msg3.txt\ntrain-mails\\6-829msg1.txt\ntrain-mails\\6-829msg2.txt\ntrain-mails\\6-829msg3.txt\ntrain-mails\\6-82msg1.txt\ntrain-mails\\6-830msg1.txt\ntrain-mails\\6-831msg1.txt\ntrain-mails\\6-832msg1.txt\ntrain-mails\\6-833msg1.txt\ntrain-mails\\6-89msg1.txt\ntrain-mails\\6-93msg1.txt\ntrain-mails\\6-96msg1.txt\ntrain-mails\\6-97msg1.txt\ntrain-mails\\8-809msg1.txt\ntrain-mails\\8-811msg1.txt\ntrain-mails\\8-811msg2.txt\ntrain-mails\\8-814msg1.txt\ntrain-mails\\8-815msg1.txt\ntrain-mails\\8-817msg1.txt\ntrain-mails\\8-817msg2.txt\ntrain-mails\\8-817msg3.txt\ntrain-mails\\8-820msg1.txt\ntrain-mails\\8-821msg1.txt\ntrain-mails\\8-824msg1.txt\ntrain-mails\\8-826msg1.txt\ntrain-mails\\8-828msg1.txt\ntrain-mails\\8-828msg2.txt\ntrain-mails\\8-828msg3.txt\ntrain-mails\\8-828msg4.txt\ntrain-mails\\8-829msg1.txt\ntrain-mails\\8-833msg1.txt\ntrain-mails\\8-835msg1.txt\ntrain-mails\\8-836msg1.txt\ntrain-mails\\8-837msg1.txt\ntrain-mails\\8-837msg2.txt\ntrain-mails\\8-838msg1.txt\ntrain-mails\\8-838msg2.txt\ntrain-mails\\8-840msg1.txt\ntrain-mails\\8-842msg1.txt\ntrain-mails\\8-844msg1.txt\ntrain-mails\\8-845msg1.txt\ntrain-mails\\8-846msg1.txt\ntrain-mails\\8-858msg1.txt\ntrain-mails\\8-859msg1.txt\ntrain-mails\\8-861msg1.txt\ntrain-mails\\8-862msg1.txt\ntrain-mails\\8-863msg1.txt\ntrain-mails\\8-863msg2.txt\ntrain-mails\\8-863msg3.txt\ntrain-mails\\8-864msg1.txt\ntrain-mails\\8-865msg1.txt\ntrain-mails\\8-865msg2.txt\ntrain-mails\\8-865msg3.txt\ntrain-mails\\8-867msg1.txt\ntrain-mails\\8-871msg1.txt\ntrain-mails\\8-872msg1.txt\ntrain-mails\\8-873msg1.txt\ntrain-mails\\8-874msg1.txt\ntrain-mails\\8-875msg1.txt\ntrain-mails\\8-876msg1.txt\ntrain-mails\\8-876msg2.txt\ntrain-mails\\8-878msg1.txt\ntrain-mails\\8-879msg1.txt\ntrain-mails\\8-881msg1.txt\ntrain-mails\\8-884msg1.txt\ntrain-mails\\8-885msg1.txt\ntrain-mails\\8-887msg1.txt\ntrain-mails\\8-887msg2.txt\ntrain-mails\\8-890msg1.txt\ntrain-mails\\8-892msg1.txt\ntrain-mails\\8-893msg1.txt\ntrain-mails\\8-894msg1.txt\ntrain-mails\\8-895msg1.txt\ntrain-mails\\8-896msg1.txt\ntrain-mails\\8-897msg1.txt\ntrain-mails\\8-898msg1.txt\ntrain-mails\\spmsga1.txt\ntrain-mails\\spmsga10.txt\ntrain-mails\\spmsga100.txt\ntrain-mails\\spmsga101.txt\ntrain-mails\\spmsga102.txt\ntrain-mails\\spmsga103.txt\ntrain-mails\\spmsga104.txt\ntrain-mails\\spmsga105.txt\ntrain-mails\\spmsga106.txt\ntrain-mails\\spmsga107.txt\ntrain-mails\\spmsga108.txt\ntrain-mails\\spmsga109.txt\ntrain-mails\\spmsga11.txt\ntrain-mails\\spmsga110.txt\ntrain-mails\\spmsga111.txt\ntrain-mails\\spmsga112.txt\ntrain-mails\\spmsga113.txt\ntrain-mails\\spmsga114.txt\ntrain-mails\\spmsga115.txt\ntrain-mails\\spmsga116.txt\ntrain-mails\\spmsga117.txt\ntrain-mails\\spmsga118.txt\ntrain-mails\\spmsga119.txt\ntrain-mails\\spmsga12.txt\ntrain-mails\\spmsga120.txt\ntrain-mails\\spmsga121.txt\ntrain-mails\\spmsga122.txt\ntrain-mails\\spmsga123.txt\ntrain-mails\\spmsga124.txt\ntrain-mails\\spmsga125.txt\ntrain-mails\\spmsga126.txt\ntrain-mails\\spmsga127.txt\ntrain-mails\\spmsga128.txt\ntrain-mails\\spmsga129.txt\ntrain-mails\\spmsga13.txt\ntrain-mails\\spmsga130.txt\ntrain-mails\\spmsga131.txt\ntrain-mails\\spmsga132.txt\ntrain-mails\\spmsga133.txt\ntrain-mails\\spmsga134.txt\ntrain-mails\\spmsga135.txt\ntrain-mails\\spmsga136.txt\ntrain-mails\\spmsga137.txt\ntrain-mails\\spmsga138.txt\ntrain-mails\\spmsga139.txt\ntrain-mails\\spmsga14.txt\ntrain-mails\\spmsga140.txt\ntrain-mails\\spmsga141.txt\ntrain-mails\\spmsga142.txt\ntrain-mails\\spmsga143.txt\ntrain-mails\\spmsga144.txt\ntrain-mails\\spmsga145.txt\ntrain-mails\\spmsga146.txt\ntrain-mails\\spmsga147.txt\ntrain-mails\\spmsga148.txt\ntrain-mails\\spmsga149.txt\ntrain-mails\\spmsga15.txt\ntrain-mails\\spmsga150.txt\ntrain-mails\\spmsga151.txt\ntrain-mails\\spmsga152.txt\ntrain-mails\\spmsga153.txt\ntrain-mails\\spmsga154.txt\ntrain-mails\\spmsga155.txt\ntrain-mails\\spmsga156.txt\ntrain-mails\\spmsga157.txt\ntrain-mails\\spmsga158.txt\ntrain-mails\\spmsga159.txt\ntrain-mails\\spmsga16.txt\ntrain-mails\\spmsga160.txt\ntrain-mails\\spmsga161.txt\ntrain-mails\\spmsga162.txt\ntrain-mails\\spmsga163.txt\ntrain-mails\\spmsga164.txt\ntrain-mails\\spmsga165.txt\ntrain-mails\\spmsga166.txt\ntrain-mails\\spmsga17.txt\ntrain-mails\\spmsga18.txt\ntrain-mails\\spmsga19.txt\ntrain-mails\\spmsga2.txt\ntrain-mails\\spmsga20.txt\ntrain-mails\\spmsga21.txt\ntrain-mails\\spmsga22.txt\ntrain-mails\\spmsga23.txt\ntrain-mails\\spmsga24.txt\ntrain-mails\\spmsga25.txt\ntrain-mails\\spmsga26.txt\ntrain-mails\\spmsga27.txt\ntrain-mails\\spmsga28.txt\ntrain-mails\\spmsga29.txt\ntrain-mails\\spmsga3.txt\ntrain-mails\\spmsga30.txt\ntrain-mails\\spmsga31.txt\ntrain-mails\\spmsga32.txt\ntrain-mails\\spmsga33.txt\ntrain-mails\\spmsga34.txt\ntrain-mails\\spmsga35.txt\ntrain-mails\\spmsga36.txt\ntrain-mails\\spmsga37.txt\ntrain-mails\\spmsga38.txt\ntrain-mails\\spmsga39.txt\ntrain-mails\\spmsga4.txt\ntrain-mails\\spmsga40.txt\ntrain-mails\\spmsga41.txt\ntrain-mails\\spmsga42.txt\ntrain-mails\\spmsga43.txt\ntrain-mails\\spmsga44.txt\ntrain-mails\\spmsga45.txt\ntrain-mails\\spmsga46.txt\ntrain-mails\\spmsga47.txt\ntrain-mails\\spmsga48.txt\ntrain-mails\\spmsga49.txt\ntrain-mails\\spmsga5.txt\ntrain-mails\\spmsga50.txt\ntrain-mails\\spmsga51.txt\ntrain-mails\\spmsga52.txt\ntrain-mails\\spmsga53.txt\ntrain-mails\\spmsga54.txt\ntrain-mails\\spmsga55.txt\ntrain-mails\\spmsga56.txt\ntrain-mails\\spmsga57.txt\ntrain-mails\\spmsga58.txt\ntrain-mails\\spmsga59.txt\ntrain-mails\\spmsga6.txt\ntrain-mails\\spmsga60.txt\ntrain-mails\\spmsga61.txt\ntrain-mails\\spmsga62.txt\ntrain-mails\\spmsga63.txt\ntrain-mails\\spmsga64.txt\ntrain-mails\\spmsga65.txt\ntrain-mails\\spmsga66.txt\ntrain-mails\\spmsga67.txt\ntrain-mails\\spmsga68.txt\ntrain-mails\\spmsga69.txt\ntrain-mails\\spmsga7.txt\ntrain-mails\\spmsga70.txt\ntrain-mails\\spmsga71.txt\ntrain-mails\\spmsga72.txt\ntrain-mails\\spmsga73.txt\ntrain-mails\\spmsga74.txt\ntrain-mails\\spmsga75.txt\ntrain-mails\\spmsga76.txt\ntrain-mails\\spmsga77.txt\ntrain-mails\\spmsga78.txt\ntrain-mails\\spmsga79.txt\ntrain-mails\\spmsga8.txt\ntrain-mails\\spmsga80.txt\ntrain-mails\\spmsga81.txt\ntrain-mails\\spmsga82.txt\ntrain-mails\\spmsga83.txt\ntrain-mails\\spmsga84.txt\ntrain-mails\\spmsga85.txt\ntrain-mails\\spmsga86.txt\ntrain-mails\\spmsga87.txt\ntrain-mails\\spmsga88.txt\ntrain-mails\\spmsga89.txt\ntrain-mails\\spmsga9.txt\ntrain-mails\\spmsga90.txt\ntrain-mails\\spmsga91.txt\ntrain-mails\\spmsga92.txt\ntrain-mails\\spmsga93.txt\ntrain-mails\\spmsga94.txt\ntrain-mails\\spmsga95.txt\ntrain-mails\\spmsga96.txt\ntrain-mails\\spmsga97.txt\ntrain-mails\\spmsga98.txt\ntrain-mails\\spmsga99.txt\ntrain-mails\\spmsgb1.txt\ntrain-mails\\spmsgb10.txt\ntrain-mails\\spmsgb100.txt\ntrain-mails\\spmsgb101.txt\ntrain-mails\\spmsgb102.txt\ntrain-mails\\spmsgb103.txt\ntrain-mails\\spmsgb104.txt\ntrain-mails\\spmsgb105.txt\ntrain-mails\\spmsgb106.txt\ntrain-mails\\spmsgb107.txt\ntrain-mails\\spmsgb108.txt\ntrain-mails\\spmsgb109.txt\ntrain-mails\\spmsgb11.txt\ntrain-mails\\spmsgb110.txt\ntrain-mails\\spmsgb111.txt\ntrain-mails\\spmsgb112.txt\ntrain-mails\\spmsgb113.txt\ntrain-mails\\spmsgb114.txt\ntrain-mails\\spmsgb115.txt\ntrain-mails\\spmsgb116.txt\ntrain-mails\\spmsgb117.txt\ntrain-mails\\spmsgb118.txt\ntrain-mails\\spmsgb119.txt\ntrain-mails\\spmsgb12.txt\ntrain-mails\\spmsgb120.txt\ntrain-mails\\spmsgb121.txt\ntrain-mails\\spmsgb122.txt\ntrain-mails\\spmsgb123.txt\ntrain-mails\\spmsgb124.txt\ntrain-mails\\spmsgb125.txt\ntrain-mails\\spmsgb126.txt\ntrain-mails\\spmsgb127.txt\ntrain-mails\\spmsgb128.txt\ntrain-mails\\spmsgb129.txt\ntrain-mails\\spmsgb13.txt\ntrain-mails\\spmsgb130.txt\ntrain-mails\\spmsgb131.txt\ntrain-mails\\spmsgb132.txt\ntrain-mails\\spmsgb133.txt\ntrain-mails\\spmsgb134.txt\ntrain-mails\\spmsgb135.txt\ntrain-mails\\spmsgb136.txt\ntrain-mails\\spmsgb137.txt\ntrain-mails\\spmsgb138.txt\ntrain-mails\\spmsgb139.txt\ntrain-mails\\spmsgb14.txt\ntrain-mails\\spmsgb140.txt\ntrain-mails\\spmsgb141.txt\ntrain-mails\\spmsgb142.txt\ntrain-mails\\spmsgb143.txt\ntrain-mails\\spmsgb144.txt\ntrain-mails\\spmsgb145.txt\ntrain-mails\\spmsgb146.txt\ntrain-mails\\spmsgb147.txt\ntrain-mails\\spmsgb148.txt\ntrain-mails\\spmsgb149.txt\ntrain-mails\\spmsgb15.txt\ntrain-mails\\spmsgb150.txt\ntrain-mails\\spmsgb151.txt\ntrain-mails\\spmsgb152.txt\ntrain-mails\\spmsgb153.txt\ntrain-mails\\spmsgb154.txt\ntrain-mails\\spmsgb155.txt\ntrain-mails\\spmsgb156.txt\ntrain-mails\\spmsgb157.txt\ntrain-mails\\spmsgb158.txt\ntrain-mails\\spmsgb159.txt\ntrain-mails\\spmsgb16.txt\ntrain-mails\\spmsgb160.txt\ntrain-mails\\spmsgb161.txt\ntrain-mails\\spmsgb162.txt\ntrain-mails\\spmsgb163.txt\ntrain-mails\\spmsgb164.txt\ntrain-mails\\spmsgb165.txt\ntrain-mails\\spmsgb166.txt\ntrain-mails\\spmsgb167.txt\ntrain-mails\\spmsgb168.txt\ntrain-mails\\spmsgb17.txt\ntrain-mails\\spmsgb18.txt\ntrain-mails\\spmsgb19.txt\ntrain-mails\\spmsgb2.txt\ntrain-mails\\spmsgb20.txt\ntrain-mails\\spmsgb21.txt\ntrain-mails\\spmsgb22.txt\ntrain-mails\\spmsgb23.txt\ntrain-mails\\spmsgb24.txt\ntrain-mails\\spmsgb25.txt\ntrain-mails\\spmsgb26.txt\ntrain-mails\\spmsgb27.txt\ntrain-mails\\spmsgb28.txt\ntrain-mails\\spmsgb29.txt\ntrain-mails\\spmsgb3.txt\ntrain-mails\\spmsgb30.txt\ntrain-mails\\spmsgb31.txt\ntrain-mails\\spmsgb32.txt\ntrain-mails\\spmsgb33.txt\ntrain-mails\\spmsgb34.txt\ntrain-mails\\spmsgb35.txt\ntrain-mails\\spmsgb36.txt\ntrain-mails\\spmsgb37.txt\ntrain-mails\\spmsgb38.txt\ntrain-mails\\spmsgb39.txt\ntrain-mails\\spmsgb4.txt\ntrain-mails\\spmsgb40.txt\ntrain-mails\\spmsgb41.txt\ntrain-mails\\spmsgb42.txt\ntrain-mails\\spmsgb43.txt\ntrain-mails\\spmsgb44.txt\ntrain-mails\\spmsgb45.txt\ntrain-mails\\spmsgb46.txt\ntrain-mails\\spmsgb47.txt\ntrain-mails\\spmsgb48.txt\ntrain-mails\\spmsgb49.txt\ntrain-mails\\spmsgb5.txt\ntrain-mails\\spmsgb50.txt\ntrain-mails\\spmsgb51.txt\ntrain-mails\\spmsgb52.txt\ntrain-mails\\spmsgb53.txt\ntrain-mails\\spmsgb54.txt\ntrain-mails\\spmsgb55.txt\ntrain-mails\\spmsgb56.txt\ntrain-mails\\spmsgb57.txt\ntrain-mails\\spmsgb58.txt\ntrain-mails\\spmsgb59.txt\ntrain-mails\\spmsgb6.txt\ntrain-mails\\spmsgb60.txt\ntrain-mails\\spmsgb61.txt\ntrain-mails\\spmsgb62.txt\ntrain-mails\\spmsgb63.txt\ntrain-mails\\spmsgb64.txt\ntrain-mails\\spmsgb65.txt\ntrain-mails\\spmsgb66.txt\ntrain-mails\\spmsgb67.txt\ntrain-mails\\spmsgb68.txt\ntrain-mails\\spmsgb69.txt\ntrain-mails\\spmsgb7.txt\ntrain-mails\\spmsgb70.txt\ntrain-mails\\spmsgb71.txt\ntrain-mails\\spmsgb72.txt\ntrain-mails\\spmsgb73.txt\ntrain-mails\\spmsgb74.txt\ntrain-mails\\spmsgb75.txt\ntrain-mails\\spmsgb76.txt\ntrain-mails\\spmsgb77.txt\ntrain-mails\\spmsgb78.txt\ntrain-mails\\spmsgb79.txt\ntrain-mails\\spmsgb8.txt\ntrain-mails\\spmsgb80.txt\ntrain-mails\\spmsgb81.txt\ntrain-mails\\spmsgb82.txt\ntrain-mails\\spmsgb83.txt\ntrain-mails\\spmsgb84.txt\ntrain-mails\\spmsgb85.txt\ntrain-mails\\spmsgb86.txt\ntrain-mails\\spmsgb87.txt\ntrain-mails\\spmsgb88.txt\ntrain-mails\\spmsgb89.txt\ntrain-mails\\spmsgb9.txt\ntrain-mails\\spmsgb90.txt\ntrain-mails\\spmsgb91.txt\ntrain-mails\\spmsgb92.txt\ntrain-mails\\spmsgb93.txt\ntrain-mails\\spmsgb94.txt\ntrain-mails\\spmsgb95.txt\ntrain-mails\\spmsgb96.txt\ntrain-mails\\spmsgb97.txt\ntrain-mails\\spmsgb98.txt\ntrain-mails\\spmsgb99.txt\ntrain-mails\\spmsgc1.txt\ntrain-mails\\spmsgc10.txt\ntrain-mails\\spmsgc11.txt\ntrain-mails\\spmsgc12.txt\ntrain-mails\\spmsgc13.txt\ntrain-mails\\spmsgc14.txt\ntrain-mails\\spmsgc15.txt\ntrain-mails\\spmsgc16.txt\ntrain-mails\\spmsgc17.txt\ntrain-mails\\spmsgc2.txt\ntrain-mails\\spmsgc3.txt\ntrain-mails\\spmsgc4.txt\ntrain-mails\\spmsgc5.txt\ntrain-mails\\spmsgc6.txt\ntrain-mails\\spmsgc7.txt\ntrain-mails\\spmsgc8.txt\ntrain-mails\\spmsgc9.txt\n[[0. 0. 0. ... 0. 0. 0.]\n [0. 0. 0. ... 0. 0. 0.]\n [0. 0. 0. ... 0. 0. 0.]\n ...\n [0. 0. 0. ... 0. 0. 0.]\n [0. 0. 0. ... 0. 0. 0.]\n [0. 1. 0. ... 0. 0. 0.]]\ntest-mails\\8-899msg1.txt\ntest-mails\\8-900msg1.txt\ntest-mails\\8-901msg1.txt\ntest-mails\\8-905msg1.txt\ntest-mails\\8-905msg2.txt\ntest-mails\\8-907msg1.txt\ntest-mails\\8-912msg1.txt\ntest-mails\\8-916msg1.txt\ntest-mails\\8-922msg1.txt\ntest-mails\\8-922msg2.txt\ntest-mails\\8-922msg3.txt\ntest-mails\\8-923msg1.txt\ntest-mails\\8-925msg1.txt\ntest-mails\\8-930msg1.txt\ntest-mails\\8-931msg1.txt\ntest-mails\\8-933msg1.txt\ntest-mails\\8-933msg2.txt\ntest-mails\\8-933msg3.txt\ntest-mails\\8-936msg1.txt\ntest-mails\\8-937msg1.txt\ntest-mails\\8-949msg1.txt\ntest-mails\\8-949msg2.txt\ntest-mails\\8-951msg1.txt\ntest-mails\\8-956msg1.txt\ntest-mails\\8-963msg1.txt\ntest-mails\\8-963msg2.txt\ntest-mails\\8-965msg1.txt\ntest-mails\\8-965msg2.txt\ntest-mails\\8-972msg1.txt\ntest-mails\\8-972msg2.txt\ntest-mails\\8-984msg1.txt\ntest-mails\\8-987msg1.txt\ntest-mails\\8-987msg2.txt\ntest-mails\\9-1262msg1.txt\ntest-mails\\9-1263msg1.txt\ntest-mails\\9-1264msg1.txt\ntest-mails\\9-1266msg1.txt\ntest-mails\\9-1266msg2.txt\ntest-mails\\9-1267msg1.txt\ntest-mails\\9-1267msg2.txt\ntest-mails\\9-126msg1.txt\ntest-mails\\9-126msg2.txt\ntest-mails\\9-1273msg1.txt\ntest-mails\\9-1274msg1.txt\ntest-mails\\9-1275msg1.txt\ntest-mails\\9-1276msg1.txt\ntest-mails\\9-1288msg1.txt\ntest-mails\\9-1289msg1.txt\ntest-mails\\9-128msg1.txt\ntest-mails\\9-1290msg1.txt\ntest-mails\\9-1292msg1.txt\ntest-mails\\9-1293msg1.txt\ntest-mails\\9-1294msg1.txt\ntest-mails\\9-1295msg1.txt\ntest-mails\\9-1296msg1.txt\ntest-mails\\9-133msg1.txt\ntest-mails\\9-133msg2.txt\ntest-mails\\9-138msg1.txt\ntest-mails\\9-138msg2.txt\ntest-mails\\9-140msg1.txt\ntest-mails\\9-142msg1.txt\ntest-mails\\9-142msg2.txt\ntest-mails\\9-146msg1.txt\ntest-mails\\9-147msg1.txt\ntest-mails\\9-147msg2.txt\ntest-mails\\9-148msg1.txt\ntest-mails\\9-14msg1.txt\ntest-mails\\9-150msg1.txt\ntest-mails\\9-152msg1.txt\ntest-mails\\9-152msg2.txt\ntest-mails\\9-153msg1.txt\ntest-mails\\9-154msg1.txt\ntest-mails\\9-154msg2.txt\ntest-mails\\9-157msg1.txt\ntest-mails\\9-157msg2.txt\ntest-mails\\9-159msg1.txt\ntest-mails\\9-159msg2.txt\ntest-mails\\9-15msg1.txt\ntest-mails\\9-15msg2.txt\ntest-mails\\9-162msg1.txt\ntest-mails\\9-167msg1.txt\ntest-mails\\9-168msg1.txt\ntest-mails\\9-597msg1.txt\ntest-mails\\9-597msg2.txt\ntest-mails\\9-59msg1.txt\ntest-mails\\9-5msg1.txt\ntest-mails\\9-5msg2.txt\ntest-mails\\9-606msg1.txt\ntest-mails\\9-607msg1.txt\ntest-mails\\9-607msg2.txt\ntest-mails\\9-608msg1.txt\ntest-mails\\9-608msg2.txt\ntest-mails\\9-612msg1.txt\ntest-mails\\9-612msg2.txt\ntest-mails\\9-613msg1.txt\ntest-mails\\9-616msg1.txt\ntest-mails\\9-617msg1.txt\ntest-mails\\9-619msg1.txt\ntest-mails\\9-61msg1.txt\ntest-mails\\9-621msg1.txt\ntest-mails\\9-621msg2.txt\ntest-mails\\9-625msg1.txt\ntest-mails\\9-627msg1.txt\ntest-mails\\9-627msg2.txt\ntest-mails\\9-628msg1.txt\ntest-mails\\9-62msg1.txt\ntest-mails\\9-63msg1.txt\ntest-mails\\9-64msg1.txt\ntest-mails\\9-64msg2.txt\ntest-mails\\9-66msg1.txt\ntest-mails\\9-6msg1.txt\ntest-mails\\9-6msg2.txt\ntest-mails\\9-71msg1.txt\ntest-mails\\9-72msg1.txt\ntest-mails\\9-72msg2.txt\ntest-mails\\9-74msg1.txt\ntest-mails\\9-74msg2.txt\ntest-mails\\9-78msg1.txt\ntest-mails\\9-78msg2.txt\ntest-mails\\9-79msg1.txt\ntest-mails\\9-83msg1.txt\ntest-mails\\9-83msg2.txt\ntest-mails\\9-86msg1.txt\ntest-mails\\9-86msg2.txt\ntest-mails\\9-87msg1.txt\ntest-mails\\9-88msg1.txt\ntest-mails\\9-88msg2.txt\ntest-mails\\9-94msg1.txt\ntest-mails\\9-94msg2.txt\ntest-mails\\9-98msg1.txt\ntest-mails\\spmsgc100.txt\ntest-mails\\spmsgc101.txt\ntest-mails\\spmsgc102.txt\ntest-mails\\spmsgc103.txt\ntest-mails\\spmsgc104.txt\ntest-mails\\spmsgc105.txt\ntest-mails\\spmsgc106.txt\ntest-mails\\spmsgc107.txt\ntest-mails\\spmsgc108.txt\ntest-mails\\spmsgc109.txt\ntest-mails\\spmsgc110.txt\ntest-mails\\spmsgc111.txt\ntest-mails\\spmsgc112.txt\ntest-mails\\spmsgc113.txt\ntest-mails\\spmsgc114.txt\ntest-mails\\spmsgc115.txt\ntest-mails\\spmsgc116.txt\ntest-mails\\spmsgc117.txt\ntest-mails\\spmsgc118.txt\ntest-mails\\spmsgc119.txt\ntest-mails\\spmsgc120.txt\ntest-mails\\spmsgc121.txt\ntest-mails\\spmsgc122.txt\ntest-mails\\spmsgc123.txt\ntest-mails\\spmsgc124.txt\ntest-mails\\spmsgc125.txt\ntest-mails\\spmsgc126.txt\ntest-mails\\spmsgc127.txt\ntest-mails\\spmsgc128.txt\ntest-mails\\spmsgc129.txt\ntest-mails\\spmsgc130.txt\ntest-mails\\spmsgc131.txt\ntest-mails\\spmsgc132.txt\ntest-mails\\spmsgc133.txt\ntest-mails\\spmsgc134.txt\ntest-mails\\spmsgc135.txt\ntest-mails\\spmsgc136.txt\ntest-mails\\spmsgc137.txt\ntest-mails\\spmsgc138.txt\ntest-mails\\spmsgc139.txt\ntest-mails\\spmsgc140.txt\ntest-mails\\spmsgc141.txt\ntest-mails\\spmsgc142.txt\ntest-mails\\spmsgc143.txt\ntest-mails\\spmsgc144.txt\ntest-mails\\spmsgc145.txt\ntest-mails\\spmsgc146.txt\ntest-mails\\spmsgc147.txt\ntest-mails\\spmsgc18.txt\ntest-mails\\spmsgc19.txt\ntest-mails\\spmsgc20.txt\ntest-mails\\spmsgc21.txt\ntest-mails\\spmsgc22.txt\ntest-mails\\spmsgc23.txt\ntest-mails\\spmsgc24.txt\ntest-mails\\spmsgc25.txt\ntest-mails\\spmsgc26.txt\ntest-mails\\spmsgc27.txt\ntest-mails\\spmsgc28.txt\ntest-mails\\spmsgc29.txt\ntest-mails\\spmsgc30.txt\ntest-mails\\spmsgc31.txt\ntest-mails\\spmsgc32.txt\ntest-mails\\spmsgc33.txt\ntest-mails\\spmsgc34.txt\ntest-mails\\spmsgc35.txt\ntest-mails\\spmsgc36.txt\ntest-mails\\spmsgc37.txt\ntest-mails\\spmsgc38.txt\ntest-mails\\spmsgc39.txt\ntest-mails\\spmsgc40.txt\ntest-mails\\spmsgc41.txt\ntest-mails\\spmsgc42.txt\ntest-mails\\spmsgc43.txt\ntest-mails\\spmsgc44.txt\ntest-mails\\spmsgc45.txt\ntest-mails\\spmsgc46.txt\ntest-mails\\spmsgc47.txt\ntest-mails\\spmsgc48.txt\ntest-mails\\spmsgc49.txt\ntest-mails\\spmsgc50.txt\ntest-mails\\spmsgc51.txt\ntest-mails\\spmsgc52.txt\ntest-mails\\spmsgc53.txt\ntest-mails\\spmsgc54.txt\ntest-mails\\spmsgc55.txt\ntest-mails\\spmsgc56.txt\ntest-mails\\spmsgc57.txt\ntest-mails\\spmsgc58.txt\ntest-mails\\spmsgc59.txt\ntest-mails\\spmsgc60.txt\ntest-mails\\spmsgc61.txt\ntest-mails\\spmsgc62.txt\ntest-mails\\spmsgc63.txt\ntest-mails\\spmsgc64.txt\ntest-mails\\spmsgc65.txt\ntest-mails\\spmsgc66.txt\ntest-mails\\spmsgc67.txt\ntest-mails\\spmsgc68.txt\ntest-mails\\spmsgc69.txt\ntest-mails\\spmsgc70.txt\ntest-mails\\spmsgc71.txt\ntest-mails\\spmsgc72.txt\ntest-mails\\spmsgc73.txt\ntest-mails\\spmsgc74.txt\ntest-mails\\spmsgc75.txt\ntest-mails\\spmsgc76.txt\ntest-mails\\spmsgc77.txt\ntest-mails\\spmsgc78.txt\ntest-mails\\spmsgc79.txt\ntest-mails\\spmsgc80.txt\ntest-mails\\spmsgc81.txt\ntest-mails\\spmsgc82.txt\ntest-mails\\spmsgc83.txt\ntest-mails\\spmsgc84.txt\ntest-mails\\spmsgc85.txt\ntest-mails\\spmsgc86.txt\ntest-mails\\spmsgc87.txt\ntest-mails\\spmsgc88.txt\ntest-mails\\spmsgc89.txt\ntest-mails\\spmsgc90.txt\ntest-mails\\spmsgc91.txt\ntest-mails\\spmsgc92.txt\ntest-mails\\spmsgc93.txt\ntest-mails\\spmsgc94.txt\ntest-mails\\spmsgc95.txt\ntest-mails\\spmsgc96.txt\ntest-mails\\spmsgc97.txt\ntest-mails\\spmsgc98.txt\ntest-mails\\spmsgc99.txt\n[[0. 3. 1. ... 0. 0. 0.]\n [0. 0. 1. ... 0. 0. 0.]\n [0. 2. 1. ... 0. 0. 0.]\n ...\n [0. 0. 0. ... 0. 0. 0.]\n [0. 0. 0. ... 0. 0. 0.]\n [0. 0. 4. ... 0. 1. 0.]]\n"
    }
   ],
   "source": [
    "Path = \"train-mails\"\n",
    "dir = make_Dictionary(Path)\n",
    "train_matrix = extract_features(Path,dir)\n",
    "print(train_matrix)\n",
    "\n",
    "Path_test = \"test-mails\"\n",
    "dir_test = make_Dictionary(Path_test)\n",
    "test_matrix = extract_features(Path_test,dir_test)\n",
    "print(test_matrix)"
   ]
  },
  {
   "cell_type": "code",
   "execution_count": 206,
   "metadata": {},
   "outputs": [],
   "source": [
    "class NaiveBayes:\n",
    "    Mean = {}\n",
    "    Std = {}\n",
    "    def fit(self,x,y):\n",
    "        #divide x by x\n",
    "        DivideX = {}\n",
    "        for i in range(len(y)):\n",
    "            if (y[i] not in DivideX):\n",
    "                DivideX[y[i]]=[]\n",
    "                DivideX[y[i]].append(x[i])\n",
    "            else:\n",
    "                DivideX[y[i]] = np.vstack((DivideX[y[i]],x[i]))\n",
    "        for key in DivideX:\n",
    "            self.Mean[key] = []\n",
    "            self.Std[key] = []\n",
    "            for i in range(DivideX[key].shape[1]):\n",
    "                self.Mean[key].append(np.mean(DivideX[key][:,i]))\n",
    "                if np.var(DivideX[key][:,i]) == 0:\n",
    "                    self.Std[key].append(0.00001)\n",
    "                else:\n",
    "                    self.Std[key].append(np.std(DivideX[key][:,i]))\n",
    "        # print(self.Mean)\n",
    "    def probabilty(self,data,key):\n",
    "        prob = 1\n",
    "        # print(data)\n",
    "        for i in range(len(data)):\n",
    "            if self.Std[key][i] == 0:\n",
    "                continue\n",
    "            exp = math.exp(-(math.pow(data[i] - self.Mean[key][i],2)/(2*math.pow(self.Std[key][i],2))))\n",
    "            prob *= (1/(math.sqrt(2*math.pi)*self.Std[key][i])) * exp\n",
    "        return prob\n",
    "    def predict(self,data):\n",
    "        result = []\n",
    "        for i in range(data.shape[0]):\n",
    "            MaxProb = 0\n",
    "            MaxProb_key = 0\n",
    "            for key in self.Mean:\n",
    "                Prob_temp = self.probabilty(data[i],key)\n",
    "                if(Prob_temp > MaxProb):\n",
    "                    MaxProb = Prob_temp\n",
    "                    MaxProb_key = key\n",
    "            result.append(MaxProb_key)\n",
    "        return result\n",
    "    def accuracy(self,data,prediction):\n",
    "        correct = 0\n",
    "        for x in range(len(data)):\n",
    "            if data[x] == prediction[x]:\n",
    "                correct += 1\n",
    "        return (correct/float(len(data))) * 100\n"
   ]
  },
  {
   "cell_type": "code",
   "execution_count": 207,
   "metadata": {
    "tags": []
   },
   "outputs": [
    {
     "output_type": "stream",
     "name": "stdout",
     "text": "89.88603988603988\n"
    }
   ],
   "source": [
    "NB = NaiveBayes()\n",
    "train_labels = np.zeros(train_matrix.shape[0])\n",
    "train_labels[351:701] = 1\n",
    "NB.fit(train_matrix,train_labels)\n",
    "pred = NB.predict(train_matrix)\n",
    "print(NB.accuracy(train_labels,pred))"
   ]
  },
  {
   "cell_type": "code",
   "execution_count": 208,
   "metadata": {
    "tags": []
   },
   "outputs": [
    {
     "output_type": "stream",
     "name": "stdout",
     "text": "[0, 0, 0, 0, 0, 0, 0, 0, 0.0, 0, 0, 0, 0, 0, 0, 0, 0, 0, 0, 0, 0, 0, 0, 0, 0, 0, 0, 0, 0, 0, 0, 0, 0, 0, 0, 0.0, 0, 0, 0, 0, 0, 0, 0, 0, 0, 0, 0, 0, 0, 0, 0, 0.0, 0, 0, 0, 0, 0.0, 0, 0, 0, 0, 0, 0, 0, 0, 0, 0, 0, 0, 0, 0, 0, 0, 0, 0, 0, 0, 0, 0, 0, 0, 0, 0, 0, 0, 0, 0, 0, 0, 0, 0, 0, 0.0, 0, 0, 0, 0, 0, 0, 0, 0, 0, 0, 0, 0, 0, 0, 0, 0, 0, 0, 0, 0, 0, 0, 0, 1.0, 0, 0, 0, 0, 0, 0, 0, 0, 0, 0, 0, 0, 0, 0, 0, 0, 0, 1.0, 0, 0, 0, 0, 0, 0, 0, 0, 0, 0.0, 0, 0, 0, 0, 0, 0, 0, 0, 0, 0, 0, 0.0, 1.0, 0, 0, 0.0, 0, 0, 1.0, 1.0, 1.0, 0, 0, 1.0, 1.0, 0.0, 0.0, 0, 0.0, 0, 0, 0, 0, 0, 0, 0, 0, 0, 0, 0, 0, 0, 0, 0.0, 0, 0, 0, 0, 0, 0, 1.0, 0, 0, 0, 0, 0, 0, 0, 0, 0, 0, 0, 0, 0, 0, 0, 0, 0.0, 0, 0, 0, 0, 0, 0, 0, 0.0, 0, 0, 0, 0, 0, 0, 0, 0, 0, 0, 0.0, 0, 0, 0, 0, 0, 0, 0, 0, 0, 0, 0, 0.0, 0, 0, 0.0, 0, 0, 0, 0.0, 0, 0, 0, 0, 0, 0, 0, 0, 0]\n52.69230769230769\n"
    }
   ],
   "source": [
    "pred_test = NB.predict(test_matrix)\n",
    "test_label = np.zeros(test_matrix.shape[0])\n",
    "test_label[130:] = 1\n",
    "print(pred_test)\n",
    "print(NB.accuracy(test_label,pred_test))"
   ]
  },
  {
   "cell_type": "code",
   "execution_count": 209,
   "metadata": {
    "tags": []
   },
   "outputs": [
    {
     "output_type": "stream",
     "name": "stdout",
     "text": "[0. 0. 0. 0. 0. 0. 0. 0. 0. 0. 0. 0. 0. 0. 0. 0. 0. 0. 0. 0. 0. 0. 0. 0.\n 0. 0. 0. 0. 0. 0. 0. 0. 0. 0. 0. 0. 0. 0. 0. 0. 0. 0. 0. 0. 0. 0. 0. 0.\n 0. 0. 0. 0. 0. 0. 0. 0. 0. 0. 0. 0. 0. 0. 0. 0. 0. 0. 0. 0. 0. 0. 0. 0.\n 0. 0. 0. 0. 0. 0. 0. 0. 0. 0. 0. 0. 0. 0. 0. 0. 0. 0. 0. 0. 0. 0. 0. 0.\n 0. 0. 0. 0. 0. 0. 0. 0. 0. 0. 0. 0. 0. 0. 0. 0. 0. 0. 0. 0. 0. 0. 0. 0.\n 0. 0. 0. 0. 0. 0. 0. 0. 0. 0. 1. 1. 1. 1. 1. 1. 1. 1. 1. 1. 1. 1. 1. 1.\n 1. 1. 1. 1. 1. 1. 1. 1. 1. 1. 1. 1. 1. 1. 1. 1. 1. 1. 1. 1. 1. 1. 1. 1.\n 1. 1. 1. 1. 1. 1. 1. 1. 1. 1. 1. 1. 1. 1. 1. 1. 1. 1. 1. 1. 1. 1. 1. 1.\n 1. 1. 1. 1. 1. 1. 1. 1. 1. 1. 1. 1. 1. 1. 1. 1. 1. 1. 1. 1. 1. 1. 1. 1.\n 1. 1. 1. 1. 1. 1. 1. 1. 1. 1. 1. 1. 1. 1. 1. 1. 1. 1. 1. 1. 1. 1. 1. 1.\n 1. 1. 1. 1. 1. 1. 1. 1. 1. 1. 1. 1. 1. 1. 1. 1. 1. 1. 1. 1.]\n98.14814814814815\n54.230769230769226\n"
    }
   ],
   "source": [
    "from sklearn.naive_bayes import GaussianNB\n",
    "from sklearn.naive_bayes import MultinomialNB\n",
    "GNB = GaussianNB()\n",
    "print(test_label)\n",
    "GNB.fit(train_matrix,train_labels)\n",
    "y_pred = GNB.predict(train_matrix)\n",
    "print(NB.accuracy(train_labels,y_pred))\n",
    "y_pred_test = GNB.predict(test_matrix)\n",
    "print(NB.accuracy(test_label,y_pred_test))"
   ]
  },
  {
   "cell_type": "code",
   "execution_count": null,
   "metadata": {},
   "outputs": [],
   "source": []
  }
 ]
}