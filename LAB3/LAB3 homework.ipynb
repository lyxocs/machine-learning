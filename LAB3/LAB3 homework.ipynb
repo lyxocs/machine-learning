{
 "metadata": {
  "language_info": {
   "codemirror_mode": {
    "name": "ipython",
    "version": 3
   },
   "file_extension": ".py",
   "mimetype": "text/x-python",
   "name": "python",
   "nbconvert_exporter": "python",
   "pygments_lexer": "ipython3",
   "version": "3.8.3-final"
  },
  "orig_nbformat": 2,
  "kernelspec": {
   "name": "Python 3.8.3 64-bit ('base': conda)",
   "display_name": "Python 3.8.3 64-bit ('base': conda)",
   "metadata": {
    "interpreter": {
     "hash": "a8f61be024eba58adef938c9aa1e29e02cb3dece83a5348b1a2dafd16a070453"
    }
   }
  }
 },
 "nbformat": 4,
 "nbformat_minor": 2,
 "cells": [
  {
   "cell_type": "code",
   "execution_count": 39,
   "metadata": {},
   "outputs": [],
   "source": [
    "import os\n",
    "import numpy as np\n",
    "from collections import Counter"
   ]
  },
  {
   "cell_type": "code",
   "execution_count": 40,
   "metadata": {},
   "outputs": [],
   "source": [
    "def make_Dictionary(train_dir):\n",
    "    emails = [os.path.join(train_dir,f) for f in os.listdir(train_dir)]\n",
    "    print(len(emails))\n",
    "    all_words = []\n",
    "    for mail in emails:\n",
    "        with open(mail) as m:\n",
    "            for i,line in enumerate(m):\n",
    "                if i == 2:  #Body of email is only 3rd line of text file\n",
    "                    words = line.split()\n",
    "                    all_words += words\n",
    "    dictionary = Counter(all_words)\n",
    "    dictionary_temp = Counter(all_words)\n",
    "\n",
    "    # Paste code for non-word removal here(code snippet is given below)\n",
    "    list_to_remove = dictionary_temp.keys()\n",
    "    for item in list_to_remove:\n",
    "        if item.isalpha() == False:    #Determine whether it is punctuation\n",
    "            del dictionary[item]\n",
    "        elif len(item) == 1:           #\n",
    "            del dictionary[item]\n",
    "    dictionary = dictionary.most_common(3000)\n",
    "    return dictionary"
   ]
  },
  {
   "cell_type": "code",
   "execution_count": 41,
   "metadata": {},
   "outputs": [],
   "source": [
    "def extract_features(root_dir):\n",
    "    emails = [os.path.join(root_dir,f) for f in os.path(root_dir)]\n",
    "    all_words = []\n",
    "    features_matrix = np.zeros((len(emails),3000))\n",
    "    for main in emails:\n",
    "        with open(mail) as m:\n",
    "            for i,line in enumerate(m):\n",
    "                if i == 2:\n",
    "                    words = line.split()\n",
    "                    all_words += words\n",
    "    for word in all_words:\n",
    "        wordID = 0\n",
    "        for i,d in enumerate(dictionary):\n",
    "            if d[0] == word:\n",
    "                wordID = i\n",
    "                feat\n",
    "\n"
   ]
  },
  {
   "cell_type": "code",
   "execution_count": 42,
   "metadata": {
    "tags": []
   },
   "outputs": [
    {
     "output_type": "stream",
     "name": "stdout",
     "text": "260\n3000\n"
    }
   ],
   "source": [
    "Path = \"./test-mails\"\n",
    "dir = make_Dictionary(Path)\n",
    "print(len(dir))\n",
    "Path = \"./test-mails\"\n",
    "# features_matrix,labels = extract_features(Path)"
   ]
  },
  {
   "cell_type": "code",
   "execution_count": null,
   "metadata": {},
   "outputs": [],
   "source": []
  }
 ]
}